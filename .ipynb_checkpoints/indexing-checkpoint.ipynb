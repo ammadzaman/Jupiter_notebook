{
 "cells": [
  {
   "cell_type": "markdown",
   "id": "347721ee-6447-4c2b-b082-ae518c4f4a6a",
   "metadata": {},
   "source": [
    "# -Indexing\n",
    "# - Test"
   ]
  },
  {
   "cell_type": "code",
   "execution_count": 2,
   "id": "5aa781e5-38ed-490d-adb7-deda4d333bc1",
   "metadata": {},
   "outputs": [],
   "source": [
    "# Make a string\n",
    "a = \"Samosa Pakora\""
   ]
  },
  {
   "cell_type": "code",
   "execution_count": 3,
   "id": "02c1c19e-aed9-497b-8b7e-9a40fbe64b36",
   "metadata": {},
   "outputs": [
    {
     "name": "stdout",
     "output_type": "stream",
     "text": [
      "Samosa Pakora\n"
     ]
    }
   ],
   "source": [
    "print(a)"
   ]
  },
  {
   "cell_type": "code",
   "execution_count": 4,
   "id": "00722d09-db96-47c1-892b-9ab85ca0e3b8",
   "metadata": {},
   "outputs": [
    {
     "name": "stdout",
     "output_type": "stream",
     "text": [
      "S\n"
     ]
    }
   ],
   "source": [
    "print(a[0])"
   ]
  },
  {
   "cell_type": "code",
   "execution_count": 5,
   "id": "6b98e8c2-0f06-4790-8006-58cc644036ae",
   "metadata": {},
   "outputs": [
    {
     "name": "stdout",
     "output_type": "stream",
     "text": [
      "13\n"
     ]
    }
   ],
   "source": [
    "print(len(a))"
   ]
  },
  {
   "cell_type": "code",
   "execution_count": 6,
   "id": "ccffafbe-2ce8-4e87-8b4f-86423f05f4d3",
   "metadata": {},
   "outputs": [
    {
     "name": "stdout",
     "output_type": "stream",
     "text": [
      "Pakor\n"
     ]
    }
   ],
   "source": [
    "print(a[-6:-1])"
   ]
  },
  {
   "cell_type": "markdown",
   "id": "22fbc85c-59f6-44c7-a184-2fa5b5e95431",
   "metadata": {},
   "source": [
    "# - Sting Methods\n"
   ]
  },
  {
   "cell_type": "code",
   "execution_count": 8,
   "id": "f5a555a6-4995-4101-9414-b614c8fb36b2",
   "metadata": {},
   "outputs": [
    {
     "name": "stdout",
     "output_type": "stream",
     "text": [
      "Bryani\n",
      "3\n"
     ]
    }
   ],
   "source": [
    "food = \"Bryani\"\n",
    "# print(food)\n",
    "# print(food.upper())\n",
    "# print(food.capitalize())\n",
    "food.replace(\"0\",\"S\")\n",
    "print(food)\n",
    "\n",
    "# concat strings\n",
    "\n",
    "name = \"Hello hammad, I am here\"\n",
    "print(name.count(\"m\"))\n",
    "name"
   ]
  }
 ],
 "metadata": {
  "kernelspec": {
   "display_name": "Python 3 (ipykernel)",
   "language": "python",
   "name": "python3"
  },
  "language_info": {
   "codemirror_mode": {
    "name": "ipython",
    "version": 3
   },
   "file_extension": ".py",
   "mimetype": "text/x-python",
   "name": "python",
   "nbconvert_exporter": "python",
   "pygments_lexer": "ipython3",
   "version": "3.12.7"
  }
 },
 "nbformat": 4,
 "nbformat_minor": 5
}
